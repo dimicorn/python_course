{
 "cells": [
  {
   "cell_type": "markdown",
   "metadata": {},
   "source": [
    "# Семинар 1. \n",
    "## Основы синтаксиса Python3. Библиотеки numpy и matplotlib"
   ]
  },
  {
   "cell_type": "markdown",
   "metadata": {},
   "source": [
    "`print()` –– функция вывода на экран"
   ]
  },
  {
   "cell_type": "code",
   "execution_count": null,
   "metadata": {},
   "outputs": [],
   "source": [
    "print('Hello World!')  # Приветствуем мир с помощью Python3"
   ]
  },
  {
   "cell_type": "markdown",
   "metadata": {},
   "source": [
    "`input()` –– функция ввода через клавиатуру"
   ]
  },
  {
   "cell_type": "code",
   "execution_count": null,
   "metadata": {},
   "outputs": [],
   "source": [
    "x = input()\n",
    "print(x)"
   ]
  },
  {
   "cell_type": "markdown",
   "metadata": {},
   "source": [
    "### Типы данных\n",
    "- `int` –– целые числа;\n",
    "- `float` –– числа с плавающей точкей, т.е. десятичные дроби;\n",
    "- `str` –– строки;\n",
    "- `bool` –– булевая переменная, т.е. принимает значения `True` или `False` (1 или 0)."
   ]
  },
  {
   "cell_type": "markdown",
   "metadata": {},
   "source": [
    "\n",
    "Через использование `()` приходит преобразование одного типа в другой. Например,"
   ]
  },
  {
   "cell_type": "code",
   "execution_count": null,
   "metadata": {},
   "outputs": [],
   "source": [
    "x = 5.2  # x переменная типа float\n",
    "y = int(x)  # y переменная типа int\n",
    "\n",
    "x = str(x)  # x переменная типа str\n",
    "y = str(y)  # y переменная типа str\n",
    "\n",
    "# Можно так вывести x и y\n",
    "# print('x = ' + x + ', y = ' + y) # тут происходит конкатенация строк\n",
    "\n",
    "# А можно вот так через f-string\n",
    "print(f'x = {x}, y = {y}')  # <-- согласитесь так удобнее\n",
    "# причем в {} может стоять переменная не типа str,\n",
    "# и все будет работать"
   ]
  },
  {
   "cell_type": "markdown",
   "metadata": {},
   "source": [
    "_Переменные могут состоять из любых букв латинского алфавита (регистр имеет значение), нижнего подчеркивания и цифр, но они не должны совпадать со служебными словами в Python. Также имя переменной не может начинаться с цифры._"
   ]
  },
  {
   "cell_type": "markdown",
   "metadata": {},
   "source": [
    "_Если вы не знаете и хотите узнать тип переменной, можно вызвать функцию `type()` от этой переменной и вы получите ее тип._"
   ]
  },
  {
   "cell_type": "code",
   "execution_count": null,
   "metadata": {},
   "outputs": [],
   "source": [
    "x = 5 / 3\n",
    "print(type(x))  # float"
   ]
  },
  {
   "cell_type": "markdown",
   "metadata": {},
   "source": [
    "### Операции с переменными\n",
    "- `+` –– сложение чисел или конкатенация строк;\n",
    "- `-` –– разность чисел\n",
    "- `*` –– умножение чисел\n",
    "- `**` –– возведение в степень\n",
    "- `/` –– \"обычное\" деление, т.e. поделив одно целое число на другое вы получите десятичную дробь\n",
    "- `//` –– деление нацело, т.е. дробная часть отбрасывается\n",
    "- `%` –– взятие остатка от деления"
   ]
  },
  {
   "cell_type": "markdown",
   "metadata": {},
   "source": [
    "Python –– динамически типизированный язык, поэтому не нужно прописывать типы переменных при инициализации. Это позволяет одной переменной менять свой тип данных во время исполнения программы, но нужно быть аккуратными с тем, чтобы операции (вызов функции) производились с переменными правильного типа. Иначе это приведет к ошибке."
   ]
  },
  {
   "cell_type": "code",
   "execution_count": null,
   "metadata": {},
   "outputs": [],
   "source": [
    "x = int(input())\n",
    "y = int(input())\n",
    "\n",
    "print(x + y)  # выводим сумму целых чисел х и у"
   ]
  },
  {
   "cell_type": "markdown",
   "metadata": {},
   "source": [
    "**Ввод с клавиатуры по умолчанию считается строкой!**"
   ]
  },
  {
   "cell_type": "code",
   "execution_count": null,
   "metadata": {},
   "outputs": [],
   "source": [
    "x = input()\n",
    "y = input()\n",
    "\n",
    "print(x % y)  # TypeError"
   ]
  },
  {
   "cell_type": "markdown",
   "metadata": {},
   "source": [
    "### Логические операции с переменными\n",
    "- `==` –– проверка на равенство\n",
    "- `!=` –– неравенство\n",
    "- `<` –– меньше\n",
    "- `>` –– больше\n",
    "- `<=` –– меньше либо равно\n",
    "- `>=` –– больше либо равно\n",
    "- `and` –– логическое и\n",
    "- `or` –– логическое или\n",
    "- `not` –– логическое отрицание"
   ]
  },
  {
   "cell_type": "code",
   "execution_count": null,
   "metadata": {},
   "outputs": [],
   "source": [
    "x = 10\n",
    "y = 10\n",
    "\n",
    "print(x == y)  # True\n",
    "\n",
    "# увеличим переменную у на 1 и запишем результат в y\n",
    "y = y + 1  # т.е. если y = 10, то y = 10 + 1 = 11\n",
    "# это можно переписать в более краткой форме\n",
    "# y += 1\n",
    "# аналогично определяются '-=', '*=', '/=', '%='\n",
    "\n",
    "print(x == y)  # False\n",
    "print(x < y)  # True"
   ]
  },
  {
   "cell_type": "markdown",
   "metadata": {},
   "source": [
    "### Ветвления if-elif-else"
   ]
  },
  {
   "cell_type": "markdown",
   "metadata": {},
   "source": [
    "Пример 1"
   ]
  },
  {
   "cell_type": "code",
   "execution_count": null,
   "metadata": {},
   "outputs": [],
   "source": [
    "x = int(input())\n",
    "\n",
    "if x > 0:  # сначала проверяется это условие, если итоговый результат True\n",
    "    # то выполняется строчка ниже\n",
    "    print('Вы ввели положительное число!')\n",
    "else:\n",
    "    # иначе выполняется эта строчка\n",
    "    print('Вы ввели ноль или отрицательное число!')"
   ]
  },
  {
   "cell_type": "markdown",
   "metadata": {},
   "source": [
    "Можно добавить больше условий. Пример 2"
   ]
  },
  {
   "cell_type": "code",
   "execution_count": null,
   "metadata": {},
   "outputs": [],
   "source": [
    "x = int(input())\n",
    "\n",
    "if x == 0:  # сначала проверяем это условие\n",
    "    print('Вы ввели ноль!')\n",
    "elif x > 0:  # потом это условие (elif = else + if)\n",
    "    print('Вы ввели положительное число!')\n",
    "else:  # выполняется, если все условия выше дали результат False\n",
    "    print('Вы ввели отрицательное число!')"
   ]
  },
  {
   "cell_type": "markdown",
   "metadata": {},
   "source": [
    "### Циклы for и while"
   ]
  },
  {
   "cell_type": "markdown",
   "metadata": {},
   "source": [
    "Цикл `for` выполняет код, написанный в теле цикла, наперед заданное количество раз"
   ]
  },
  {
   "cell_type": "code",
   "execution_count": null,
   "metadata": {},
   "outputs": [],
   "source": [
    "x = 1\n",
    "n = 5\n",
    "for i in range(n):\n",
    "    x *= 2  # тело цикла выполнится n = 5 раз\n",
    "\n",
    "print(x)  # 32"
   ]
  },
  {
   "cell_type": "markdown",
   "metadata": {},
   "source": [
    "Цикл `while` выполняет код, написанный в теле цикла, пока условие верно. Если условие верно всегда, то происходит зацикливание и программа падает."
   ]
  },
  {
   "cell_type": "code",
   "execution_count": null,
   "metadata": {},
   "outputs": [],
   "source": [
    "n = 0\n",
    "x = 1\n",
    "while n < 5:\n",
    "    x *= 2\n",
    "    n += 1\n",
    "\n",
    "print(x)  # 32"
   ]
  },
  {
   "cell_type": "code",
   "execution_count": null,
   "metadata": {},
   "outputs": [],
   "source": [
    "# Вот так выглядит бесконечный цикл\n",
    "\"\"\"\n",
    "while True:\n",
    "    # какой-то код\n",
    "\"\"\"\n",
    "\n",
    "# или так\n",
    "\"\"\"\n",
    "n = 0\n",
    "x = 1\n",
    "while n < 5:\n",
    "    x *= 2\n",
    "\"\"\"\n",
    "# потому что переменная n не меняет своего значения в теле цикла"
   ]
  },
  {
   "cell_type": "markdown",
   "metadata": {},
   "source": [
    "### Структура данных list\n",
    "`list` нужен для хранения множества элементов одновременно"
   ]
  },
  {
   "cell_type": "code",
   "execution_count": null,
   "metadata": {},
   "outputs": [],
   "source": [
    "L = [1, 2, 3, 4, 5]  # можно инициализировать список руками\n",
    "\n",
    "# можно пройтись циклом, и заполнить пустой список элементами,\n",
    "# используя функцию list_name.append()\n",
    "L = []\n",
    "n = 5\n",
    "for i in range(n):\n",
    "    L.append(i)  # добавляем i в конец списка L\n",
    "\n",
    "# L = [0, 1, 2, 3, 4]"
   ]
  },
  {
   "cell_type": "markdown",
   "metadata": {},
   "source": [
    "_`range(n)` по умолчанию генирирует последовательность от `0` до `n-1` включительно. `range(start, stop + step, step)` –– так получим последовательность от `start` до `stop` включительно с шагом `step`, где `step` целое число._"
   ]
  },
  {
   "cell_type": "code",
   "execution_count": null,
   "metadata": {},
   "outputs": [],
   "source": [
    "# Можно избавиться от цикла\n",
    "n = 7\n",
    "L = list(range(n))  # [0, 1, 2, 3, 4, 5, 6]\n",
    "\n",
    "# Еще один способ, заполнение списка одинаковыми элементами\n",
    "L = [0] * n  # [0, 0, 0, 0, 0, 0, 0]"
   ]
  },
  {
   "cell_type": "markdown",
   "metadata": {},
   "source": [
    "Чтобы узнать длину списка, есть функция `len()`"
   ]
  },
  {
   "cell_type": "code",
   "execution_count": null,
   "metadata": {},
   "outputs": [],
   "source": [
    "n = 5\n",
    "L = list(range(n))  # [0, 1, 2, 3, 4]\n",
    "L.append(10)  # [0, 1, 2, 3, 4, 10]\n",
    "\n",
    "print(len(L))  # 6"
   ]
  },
  {
   "cell_type": "markdown",
   "metadata": {},
   "source": [
    "Чтобы обратиться к элементу списка, используются `[]`, внутри которых пишется индекс элемента."
   ]
  },
  {
   "cell_type": "code",
   "execution_count": null,
   "metadata": {},
   "outputs": [],
   "source": [
    "L = [0, 1, 1, 2, 3, 5, 8]\n",
    "\n",
    "# Нумерация массива начинается с 0 и до len(L)-1 включительно\n",
    "print(L[0])  # 0\n",
    "print(L[3])  # 2\n",
    "print(L[7])  # IndexError"
   ]
  },
  {
   "cell_type": "markdown",
   "metadata": {},
   "source": [
    "В Python также можно обращаться к элементам с конца"
   ]
  },
  {
   "cell_type": "code",
   "execution_count": null,
   "metadata": {},
   "outputs": [],
   "source": [
    "L = [0, 1, 1, 2, 3, 5, 8]\n",
    "\n",
    "print(L[-1])  # 8\n",
    "print(L[-7])  # 0"
   ]
  },
  {
   "cell_type": "markdown",
   "metadata": {},
   "source": [
    "Также можно работать с определенными кусками списка через срезы `[:]`"
   ]
  },
  {
   "cell_type": "code",
   "execution_count": null,
   "metadata": {},
   "outputs": [],
   "source": [
    "L = [0, 1, 1, 2, 3, 5, 8]\n",
    "\n",
    "print(L[:])  # весь список L\n",
    "print(L[:3])  # с начала до L[3] не включительно\n",
    "print(L[-5:])  # c L[-5] до конца\n",
    "print(L[2:4])  # c L[2] до L[4] не включительно\n",
    "print(L[-5:3])  # c L[-5] до L[3] не включительно\n",
    "print(L[3:3])  # пустой список"
   ]
  },
  {
   "cell_type": "markdown",
   "metadata": {},
   "source": [
    "Чтобы вывести все элементы списка, есть три основных варианта"
   ]
  },
  {
   "cell_type": "code",
   "execution_count": null,
   "metadata": {},
   "outputs": [],
   "source": [
    "L = [0, 1, 1, 2, 3, 5, 8]\n",
    "\n",
    "# Циклом for итерироваться по индексам L\n",
    "for i in range(len(L)):\n",
    "    print(L[i], end=\" \")  # вывод в одну строчку\n",
    "print()\n",
    "\n",
    "# Циклом for итерироваться по элементам L\n",
    "for i in L:\n",
    "    print(i, end=\" \")\n",
    "print()\n",
    "\n",
    "# Циклом for итерироваться по элементам и индексам L\n",
    "for index, value in enumerate(L):\n",
    "    print(f'index = {index}, value = {value}')\n",
    "\n",
    "# Понятно, что также можно воспользоваться циклом while"
   ]
  },
  {
   "cell_type": "markdown",
   "metadata": {},
   "source": [
    "### Функции"
   ]
  },
  {
   "cell_type": "markdown",
   "metadata": {},
   "source": [
    "Чтобы не переписывать один и тот же код много раз, используются функции"
   ]
  },
  {
   "cell_type": "code",
   "execution_count": null,
   "metadata": {},
   "outputs": [],
   "source": [
    "# Можно так\n",
    "\"\"\"\n",
    "def function_name(variable1, variable2, ...):\n",
    "    # your code\n",
    "\"\"\"\n",
    "# Но я предпочитаю дополнительно указывать тип переменных,\n",
    "# тип результата функции и вам советую так делать. Если функция\n",
    "# ничего не возвращает, значит тип None\n",
    "\"\"\"\n",
    "def function_name(variable1 : variable1_type, ...) -> return_type :\n",
    "    # your code\n",
    "\"\"\""
   ]
  },
  {
   "cell_type": "markdown",
   "metadata": {},
   "source": [
    "Напишем функцию, которая будет проверять является ли число простым"
   ]
  },
  {
   "cell_type": "code",
   "execution_count": null,
   "metadata": {},
   "outputs": [],
   "source": [
    "def isPrime(x: int) -> bool:\n",
    "    i = 2\n",
    "    if x == 1:\n",
    "        # 1 - не является простым числом\n",
    "        return False\n",
    "    else:\n",
    "        while i * i <= x:\n",
    "            if x % i == 0:\n",
    "                return False\n",
    "            i += 1\n",
    "        return True\n",
    "\n",
    "\n",
    "print(isPrime(1))  # False\n",
    "print(isPrime(2))  # True\n",
    "print(isPrime(9))  # False"
   ]
  },
  {
   "cell_type": "markdown",
   "metadata": {},
   "source": [
    "### Библиотека numpy"
   ]
  },
  {
   "cell_type": "markdown",
   "metadata": {},
   "source": [
    "В математической библиотеке `numpy` есть и другие способов генерации списков _(формально говоря `numpy array` не тоже самое, что `list`, но об этом чуть позже)_ через функции\n",
    "- `numpy.arange(start, stop + step, step)`;\n",
    "- `numpy.linspace(start, stop, number_of_elements)`.\n",
    "\n",
    "`numpy.arange()` аналогичен стандартной функции `range()`, за исключением того, что может принимать десятичные дроби в качестве `step`.\n",
    "\n",
    "`numpy.linspace()` создает список от `start` до `stop` **включительно** и делит его на равные `number_of_elements` частей, поэтому элементы полученного массива всегда типа `float`."
   ]
  },
  {
   "cell_type": "code",
   "execution_count": null,
   "metadata": {},
   "outputs": [],
   "source": [
    "import numpy as np  # импортируем numpy, присваиваем имя np\n",
    "\n",
    "n = 8\n",
    "x1 = list(range(n))\n",
    "x2 = np.arange(0, n, 1)\n",
    "x3 = np.linspace(0, n - 1, 8)\n",
    "\n",
    "# получим одинаковые списки\n",
    "# [0, 1, 2, 3, 4, 5, 6, 7]"
   ]
  },
  {
   "cell_type": "markdown",
   "metadata": {},
   "source": [
    "### Библиотека matplotlib"
   ]
  },
  {
   "cell_type": "code",
   "execution_count": null,
   "metadata": {},
   "outputs": [],
   "source": [
    "import numpy as np\n",
    "import matplotlib.pyplot as plt  # импортируем matplotlib, присваиваем имя plt\n",
    "\n",
    "x = np.linspace(0, 10, 10)\n",
    "y = []\n",
    "for i in x:\n",
    "    y.append(np.exp(i))\n",
    "\n",
    "# функция для построения графика\n",
    "# соединение линией точек\n",
    "plt.plot(x, y, color='blue')\n",
    "\n",
    "# точки, не соединенные линией\n",
    "plt.scatter(x, y, color='red')\n",
    "\n",
    "# подпись ось X\n",
    "plt.xlabel('x')\n",
    "# подпись ось Y\n",
    "plt.ylabel('exp(x)')\n",
    "# название графика\n",
    "plt.title('График экспоненты')\n",
    "\n",
    "# добавим сетку\n",
    "plt.grid(True)\n",
    "# функция для показа графика на экране\n",
    "plt.show()\n",
    "# функция для сохранения графика в виде файла\n",
    "# plt.savefig(file_name.png)"
   ]
  },
  {
   "cell_type": "markdown",
   "metadata": {},
   "source": [
    "## Домашнее задание к этой паре находится по [ссылке](http://cs.mipt.ru/python/lessons/lab1.html)."
   ]
  }
 ],
 "metadata": {
  "kernelspec": {
   "display_name": "Python 3",
   "language": "python",
   "name": "python3"
  },
  "language_info": {
   "codemirror_mode": {
    "name": "ipython",
    "version": 3
   },
   "file_extension": ".py",
   "mimetype": "text/x-python",
   "name": "python",
   "nbconvert_exporter": "python",
   "pygments_lexer": "ipython3",
   "version": "3.9.6"
  },
  "orig_nbformat": 4
 },
 "nbformat": 4,
 "nbformat_minor": 2
}
