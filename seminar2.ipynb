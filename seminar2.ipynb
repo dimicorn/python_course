{
 "cells": [
  {
   "cell_type": "markdown",
   "metadata": {},
   "source": [
    "# Семинар 2\n",
    "## Лямбда-функция, структуры данных и работа с файлами"
   ]
  },
  {
   "cell_type": "markdown",
   "metadata": {},
   "source": [
    "### Лямбда-функция\n",
    "```python\n",
    "function_name = lambda variable1, variable2, ... : doing_smth_w_variables\n",
    "```\n",
    "Пример"
   ]
  },
  {
   "cell_type": "code",
   "execution_count": null,
   "metadata": {},
   "outputs": [],
   "source": [
    "x = lambda y, z : y * z\n",
    "\n",
    "def x(y: int, z: int) -> int:\n",
    "    return y * z\n",
    "\n",
    "print(x(5, 3))"
   ]
  },
  {
   "cell_type": "markdown",
   "metadata": {},
   "source": [
    "### 1. Список (list)\n",
    "Некоторые методы для списка"
   ]
  },
  {
   "cell_type": "code",
   "execution_count": null,
   "metadata": {},
   "outputs": [],
   "source": [
    "L = [1, 2, 3, 5, 2, 5]\n",
    "\n",
    "# удаление элемента по индексу, если индекс не вписать,\n",
    "# то последнего элемента списка\n",
    "L.pop(5) # [1, 2, 3, 5, 2]\n",
    "\n",
    "min(L) # минимум списка, то есть 1\n",
    "max(L) # максимум списка, то есть 5\n",
    "sum(L) # сумма всех элементов списка\n",
    "L.count(2) # количество вхождений элемента в список\n",
    "L.index(3) # возвращение индекса первого вхождения элемента, то есть 2\n",
    "L.insert(2, 5) # вставка 5 по индексу 2, то есть [1, 2, 5, 3, 5, 2]\n",
    "L.extend([1, 2]) # добавление списка в конец L, то есть [1, 2, 5, 3, 5, 2, 1, 2]\n",
    "# L += [1, 2]\n",
    "print(0 in L) # проверка на наличие элемента в списке\n",
    "# L.sort() # сортировка и изменение исходного списка\n",
    "N = sorted(L) # результат вызова есть отсортированный список\n",
    "print(L)\n",
    "print(N)"
   ]
  },
  {
   "cell_type": "markdown",
   "metadata": {},
   "source": [
    "### 2. Кортеж (tuple)\n",
    "**Элементы кортежа не изменяемы!**\n",
    "\n",
    "Некоторые методы кортежа"
   ]
  },
  {
   "cell_type": "code",
   "execution_count": null,
   "metadata": {},
   "outputs": [],
   "source": [
    "T = (1, 2, 5, 6, 6)\n",
    "\n",
    "T.count(6) # подсчет вхождений значения в кортеж\n",
    "T.index(1) # возвращение индекса по значению элемента кортежа"
   ]
  },
  {
   "cell_type": "markdown",
   "metadata": {},
   "source": [
    "Часто используемый пример кортежей - возврат функции"
   ]
  },
  {
   "cell_type": "code",
   "execution_count": null,
   "metadata": {},
   "outputs": [],
   "source": [
    "temp = [1, 2, 3]\n",
    "\n",
    "def function(x: int, A: list[int]) -> tuple:\n",
    "    for i, value in enumerate(A):\n",
    "        if value == x:\n",
    "            return (x, i)\n",
    "    raise IndexError\n",
    "\n",
    "function(1, temp)"
   ]
  },
  {
   "cell_type": "markdown",
   "metadata": {},
   "source": [
    "### 3. Множество (set)\n",
    "**Множество хранит элементы в произвольном порядке, а сами элементы не изменяемы и различны между собой**"
   ]
  },
  {
   "cell_type": "code",
   "execution_count": 130,
   "metadata": {},
   "outputs": [],
   "source": [
    "s = set({1, 2, 2, 4, 5, 6}) # {1, 2, 4, 5, 6}\n",
    "s2 = set({5, 6})\n",
    "\n",
    "s.add(7) # добавление элемента в множество, {1, 2, 4, 5, 6, 7}\n",
    "s.difference(s2) # разность s\\s2, {1, 2, 4, 7}\n",
    "s.intersection(s2) # пересечение s и s2, {5, 6}\n",
    "s2.issubset(s) # проверка является ли s2 подмножеством s, True\n",
    "s.union(s2) # объединение множеств s и s2, {1, 2, 4, 5, 6, 7}\n",
    "s.remove(7) # удаление 7 из множества s, {1, 2, 4, 5, 6}\n",
    "s.pop() # удаление произвольного элемента множества\n",
    "s.clear() # удаление всех элементов множества, {}"
   ]
  },
  {
   "cell_type": "markdown",
   "metadata": {},
   "source": [
    "### 4. Словарь (dict)\n",
    "словарь = {ключ: значение}"
   ]
  },
  {
   "cell_type": "code",
   "execution_count": null,
   "metadata": {},
   "outputs": [],
   "source": [
    "d = {'A': 1, 'B': 2, 'C': 3}\n",
    "print(d['C']) # обращение к значению элемента словаря по ключу"
   ]
  },
  {
   "cell_type": "markdown",
   "metadata": {},
   "source": [
    "Некоторые методы словаря"
   ]
  },
  {
   "cell_type": "code",
   "execution_count": null,
   "metadata": {},
   "outputs": [],
   "source": [
    "d.items() # итератор на список из кортежей (ключ, значение), [('A', 1), ('B', 2), ('C', 3)]\n",
    "d.keys() # итератор на список из ключей, ['A', 'B', 'C']\n",
    "d.values() # итератор на список из значений, [1, 2, 3]\n",
    "d.pop('C') # удаление элемента по ключу {'A': 1, 'B': 2}\n",
    "print(d)"
   ]
  },
  {
   "cell_type": "markdown",
   "metadata": {},
   "source": [
    "### Генератор структур данных (comprehensions)"
   ]
  },
  {
   "cell_type": "code",
   "execution_count": null,
   "metadata": {},
   "outputs": [],
   "source": [
    "A = [x for x in range(5)]\n",
    "D = {i: i * 10 for i in range(5)}\n",
    "S = {i for i in range(5) if i % 2 == 0}\n",
    "\n",
    "print(A)\n",
    "print(D)\n",
    "print(S)"
   ]
  },
  {
   "cell_type": "markdown",
   "metadata": {},
   "source": [
    "### Методы `join`, `split` и `map`"
   ]
  },
  {
   "cell_type": "code",
   "execution_count": null,
   "metadata": {},
   "outputs": [],
   "source": [
    "\", \".join(['Hi', 'my', 'name', 'is']) # 'Hi, my, name, is'"
   ]
  },
  {
   "cell_type": "code",
   "execution_count": null,
   "metadata": {},
   "outputs": [],
   "source": [
    "string = \"hi, my, name, is\"\n",
    "string.split(', ') # ['hi', 'my', 'name', 'is']"
   ]
  },
  {
   "cell_type": "code",
   "execution_count": null,
   "metadata": {},
   "outputs": [],
   "source": [
    "nums = ['1', '3', '4', '2']\n",
    "numbers = map(int, nums) # применяет функцию int к каждому элементу списка nums,\n",
    "# возвращает итератор на полученный список\n",
    "print(list(numbers))"
   ]
  },
  {
   "cell_type": "code",
   "execution_count": null,
   "metadata": {},
   "outputs": [],
   "source": [
    "A = list(map(int, input().split())) # ввод значений списка в одну строку\n",
    "print(A)"
   ]
  },
  {
   "cell_type": "markdown",
   "metadata": {},
   "source": [
    "Вывод в одну строку"
   ]
  },
  {
   "cell_type": "code",
   "execution_count": null,
   "metadata": {},
   "outputs": [],
   "source": [
    "for i in [1, 2, 3]:\n",
    "    print(i, end=' ')"
   ]
  },
  {
   "cell_type": "markdown",
   "metadata": {},
   "source": [
    "Вывод нескольких элементов в одну строку"
   ]
  },
  {
   "cell_type": "code",
   "execution_count": null,
   "metadata": {},
   "outputs": [],
   "source": [
    "a = 2\n",
    "b = 3\n",
    "c = 3\n",
    "\n",
    "print(a, b, c, sep=', ')"
   ]
  },
  {
   "cell_type": "markdown",
   "metadata": {},
   "source": [
    "### Считывание из файла"
   ]
  },
  {
   "cell_type": "markdown",
   "metadata": {},
   "source": [
    "Обычный способ"
   ]
  },
  {
   "cell_type": "code",
   "execution_count": null,
   "metadata": {},
   "outputs": [],
   "source": [
    "f = open('zen_of_py.txt')\n",
    "contents = f.read()\n",
    "f.close() # чтобы избежать ошибок, обязательно нужно в конце закрыть файл!\n",
    "print(contents)"
   ]
  },
  {
   "cell_type": "markdown",
   "metadata": {},
   "source": [
    "Ленивый способ"
   ]
  },
  {
   "cell_type": "code",
   "execution_count": null,
   "metadata": {},
   "outputs": [],
   "source": [
    "with open('zen_of_py.txt') as f:\n",
    "    contents = f.read().split('\\n')\n",
    "\n",
    "print(contents)"
   ]
  },
  {
   "cell_type": "markdown",
   "metadata": {},
   "source": [
    "### Вывод в файл"
   ]
  },
  {
   "cell_type": "code",
   "execution_count": null,
   "metadata": {},
   "outputs": [],
   "source": [
    "# 'w' показывает, что в файл открывается для записи\n",
    "# если такого файла не существует, он создается\n",
    "# 'r' для чтения\n",
    "# 'x' для создания\n",
    "# 'w+' для чтения и записи\n",
    "\n",
    "with open('output.txt', 'w') as f: \n",
    "    f.write('It is Wednesday, my dudes!')"
   ]
  },
  {
   "cell_type": "markdown",
   "metadata": {},
   "source": [
    "# Домашнее задание к этой паре по [ссылке](http://cs.mipt.ru/python/lessons/lab3.html)"
   ]
  }
 ],
 "metadata": {
  "kernelspec": {
   "display_name": "Python 3",
   "language": "python",
   "name": "python3"
  },
  "language_info": {
   "codemirror_mode": {
    "name": "ipython",
    "version": 3
   },
   "file_extension": ".py",
   "mimetype": "text/x-python",
   "name": "python",
   "nbconvert_exporter": "python",
   "pygments_lexer": "ipython3",
   "version": "3.11.5"
  },
  "orig_nbformat": 4
 },
 "nbformat": 4,
 "nbformat_minor": 2
}
